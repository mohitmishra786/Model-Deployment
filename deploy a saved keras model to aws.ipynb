{
 "cells": [
  {
   "cell_type": "markdown",
   "source": [
    "## Deploy your pre-trained keras model to AWS\n",
    "adapted from https://aws.amazon.com/blogs/machine-learning/deploy-trained-keras-or-tensorflow-models-using-amazon-sagemaker/"
   ],
   "metadata": {}
  },
  {
   "cell_type": "markdown",
   "source": [
    "## 1. input the model names\n",
    "complete either:\n",
    "- MODEL_LOCATION.  or\n",
    "- both of JSON and WEIGHTS_LOCATION"
   ],
   "metadata": {}
  },
  {
   "cell_type": "code",
   "execution_count": null,
   "source": [
    "import numpy as np\r\n",
    "\r\n",
    "# we have to create this or we can create json and weight file\r\n",
    "MODEL_LOCATION ='model.h5'\r\n",
    "\r\n",
    "# or if your model is saved as 2 files: model as a .json file, and weights as a .h5 file\r\n",
    "JSON_LOCATION = ''\r\n",
    "WEIGHTS_LOCATION = ''"
   ],
   "outputs": [],
   "metadata": {}
  },
  {
   "cell_type": "markdown",
   "source": [
    "## 2. Load Your Model\n",
    "Simply run the cell below; the model will be loaded based on how you defined the above"
   ],
   "metadata": {}
  },
  {
   "cell_type": "code",
   "execution_count": null,
   "source": [
    "if MODEL_LOCATION!='': #if your model is saved as a .h5 file only\r\n",
    "    from keras.models import load_model\r\n",
    "    model = load_model(MODEL_LOCATION) #load the model\r\n",
    "    print(\"loaded model from MODEL_LOCATION\")\r\n",
    "    \r\n",
    "elif JSON_LOCATION!='': # you have your model saved as a JSON file AND weights\r\n",
    "#adapted from https://machinelearningmastery.com/save-load-keras-deep-learning-models/\r\n",
    "    from keras.models import model_from_json\r\n",
    "    json_file = open(JSON_LOCATION, 'r')\r\n",
    "    loaded_model_json = json_file.read()\r\n",
    "    json_file.close()\r\n",
    "    \r\n",
    "    model = model_from_json(loaded_model_json)\r\n",
    "    # load weights into new model\r\n",
    "    model.load_weights(WEIGHTS_LOCATION)\r\n",
    "    print(\"loaded model from JSON_LOCATION and WEIGHTS_LOCATION\")"
   ],
   "outputs": [],
   "metadata": {}
  },
  {
   "cell_type": "markdown",
   "source": [
    "## 3. Convert the Keras Model to the format AWS wants\n",
    "- Converts to a Protobuff file\n",
    "- Saves it in a certain aws file structure\n",
    "- Tarballs this file and zips it"
   ],
   "metadata": {}
  },
  {
   "cell_type": "code",
   "execution_count": null,
   "source": [
    "def convert_h5_to_aws(loaded_model):\r\n",
    "    \"\"\"\r\n",
    "    given a pre-trained keras model, this function converts it to a TF protobuf format\r\n",
    "    and saves it in the file structure which aws expects\r\n",
    "    \"\"\"  \r\n",
    "    from tensorflow.python.saved_model import builder\r\n",
    "    from tensorflow.python.saved_model.signature_def_utils import predict_signature_def\r\n",
    "    from tensorflow.python.saved_model import tag_constants\r\n",
    "    \r\n",
    "    # This is the file structure which AWS expects. Cannot be changed. \r\n",
    "    model_version = '1'\r\n",
    "    export_dir = 'export/Servo/' + model_version\r\n",
    "    \r\n",
    "    # Build the Protocol Buffer SavedModel at 'export_dir'\r\n",
    "    builder = builder.SavedModelBuilder(export_dir)\r\n",
    "    \r\n",
    "    # Create prediction signature to be used by TensorFlow Serving Predict API\r\n",
    "    signature = predict_signature_def(\r\n",
    "        inputs={\"inputs\": loaded_model.input}, outputs={\"score\": loaded_model.output})\r\n",
    "    \r\n",
    "    from keras import backend as K\r\n",
    "    with K.get_session() as sess:\r\n",
    "        # Save the meta graph and variables\r\n",
    "        builder.add_meta_graph_and_variables(\r\n",
    "            sess=sess, tags=[tag_constants.SERVING], signature_def_map={\"serving_default\": signature})\r\n",
    "        builder.save()\r\n",
    "    \r\n",
    "    #create a tarball/tar file and zip it\r\n",
    "    import tarfile\r\n",
    "    with tarfile.open('model.tar.gz', mode='w:gz') as archive:\r\n",
    "        archive.add('export', recursive=True)\r\n",
    "        \r\n",
    "convert_h5_to_aws(model)"
   ],
   "outputs": [],
   "metadata": {}
  },
  {
   "cell_type": "markdown",
   "source": [
    "## 4. Move the tarball (tar.gz) to S3"
   ],
   "metadata": {}
  },
  {
   "cell_type": "code",
   "execution_count": null,
   "source": [
    "import sagemaker\r\n",
    "\r\n",
    "sagemaker_session = sagemaker.Session()\r\n",
    "inputs = sagemaker_session.upload_data(path='model.tar.gz', key_prefix='model')"
   ],
   "outputs": [],
   "metadata": {}
  },
  {
   "cell_type": "markdown",
   "source": [
    "This is the name of the bucket which SageMaker made in S3"
   ],
   "metadata": {}
  },
  {
   "cell_type": "code",
   "execution_count": null,
   "source": [
    "# where did it upload to?\r\n",
    "print(\"Bucket name is:\")\r\n",
    "sagemaker_session.default_bucket()"
   ],
   "outputs": [],
   "metadata": {}
  },
  {
   "cell_type": "markdown",
   "source": [
    "## 5. Create a SageMaker Model\n",
    "First, create an empty train.py file (TensorFlowModel expects this at its 'entry point', but can be empty)"
   ],
   "metadata": {}
  },
  {
   "cell_type": "code",
   "execution_count": null,
   "source": [
    "!touch train.py #create an empty python file"
   ],
   "outputs": [],
   "metadata": {}
  },
  {
   "cell_type": "code",
   "execution_count": null,
   "source": [
    "import boto3, re\r\n",
    "from sagemaker import get_execution_role\r\n",
    "\r\n",
    "# the (default) IAM role you created when creating this notebook\r\n",
    "role = get_execution_role()\r\n",
    "\r\n",
    "# Create a Sagemaker model (see AWS console>SageMaker>Models)\r\n",
    "from sagemaker.tensorflow.model import TensorFlowModel\r\n",
    "sagemaker_model = TensorFlowModel(model_data = 's3://' + sagemaker_session.default_bucket() + '/model/model.tar.gz',\r\n",
    "                                  role = role,\r\n",
    "                                  framework_version = '1.12',\r\n",
    "                                  entry_point = 'train.py')"
   ],
   "outputs": [],
   "metadata": {}
  },
  {
   "cell_type": "markdown",
   "source": [
    "## 6a) Host the SageMaker model and\n",
    "## 6b) Create an Endpoint to access the model "
   ],
   "metadata": {}
  },
  {
   "cell_type": "markdown",
   "source": [
    "Deploy the model. This can take ~10 minutes\n",
    "\n",
    "Ignore the message `update_endpoint is a no-op in sagemaker>=2`"
   ],
   "metadata": {}
  },
  {
   "cell_type": "code",
   "execution_count": null,
   "source": [
    "# Deploy a SageMaker to an endpoint\r\n",
    "predictor = sagemaker_model.deploy(initial_instance_count=1,\r\n",
    "                                   instance_type='ml.m4.xlarge')"
   ],
   "outputs": [],
   "metadata": {}
  },
  {
   "cell_type": "code",
   "execution_count": null,
   "source": [
    "# uncomment this\r\n",
    "# What is our endpoint called?\r\n",
    "#endpoint = predictor.endpoint\r\n",
    "#endpoint"
   ],
   "outputs": [],
   "metadata": {}
  },
  {
   "cell_type": "markdown",
   "source": [
    "## Success! You have deployed a keras model into AWS\n",
    "# ---------------------\n",
    "### 7. Confirm its working correctly by making a prediction\n",
    "Now, we want to use our endpoint/model. Create a predictor which uses the endpoint\n",
    "\n",
    "This step depends on what inputs your model is expecting. I simply used the iris dataset and so can feed it 4 inputs of which it will give me 3 probabilities - 1 for each iris type. \n",
    "\n",
    "Before deploying to aws, I got the predictions of my model - __locally__ - so that I could compare the local vs aws results (they should be the same). \n",
    "\n",
    "Locally, with the input below we get the following predictions:\n",
    "expected predictions:\n",
    "\n",
    "- 0.99930930\n",
    "- 0.00069067377\n",
    "- 0.00000000000000015728773"
   ],
   "metadata": {}
  },
  {
   "cell_type": "code",
   "execution_count": 13,
   "source": [
    "# Create a predictor which uses this new endpoint\r\n",
    "import sagemaker\r\n",
    "from sagemaker.tensorflow.model import TensorFlowModel\r\n",
    "\r\n",
    "endpoint = '' #get endpoint name from SageMaker > endpoints\r\n",
    "\r\n",
    "predictor=sagemaker.tensorflow.model.TensorFlowPredictor(endpoint, sagemaker_session)\r\n",
    "# .predict send the data to our endpoint\r\n",
    "data = np.asarray([[5. , 3.5, 1.3, 0.3]]) #<-- update this to have inputs for your model\r\n",
    "predictor.predict(data)"
   ],
   "outputs": [
    {
     "output_type": "execute_result",
     "data": {
      "text/plain": [
       "{'predictions': [[0.999309, 0.000690674, 1.57288e-16]]}"
      ]
     },
     "metadata": {},
     "execution_count": 13
    }
   ],
   "metadata": {}
  },
  {
   "cell_type": "markdown",
   "source": [
    "## Cleanup!\n",
    "\n",
    "else you will incur extra charges\n",
    "\n",
    "https://docs.aws.amazon.com/sagemaker/latest/dg/ex1-cleanup.html\n",
    "\n",
    "- Stop Notebook\n",
    "- delete endpoints\n",
    "- delete models\n",
    "- delete S3 bucket\n",
    "- delete cloudwatch groups"
   ],
   "metadata": {}
  },
  {
   "cell_type": "code",
   "execution_count": null,
   "source": [],
   "outputs": [],
   "metadata": {}
  }
 ],
 "metadata": {
  "kernelspec": {
   "display_name": "Python 3",
   "language": "python",
   "name": "python3"
  },
  "language_info": {
   "codemirror_mode": {
    "name": "ipython",
    "version": 3
   },
   "file_extension": ".py",
   "mimetype": "text/x-python",
   "name": "python",
   "nbconvert_exporter": "python",
   "pygments_lexer": "ipython3",
   "version": "3.8.5"
  }
 },
 "nbformat": 4,
 "nbformat_minor": 4
}